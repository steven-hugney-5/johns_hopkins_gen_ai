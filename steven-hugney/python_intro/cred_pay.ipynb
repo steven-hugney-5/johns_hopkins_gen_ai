{
 "cells": [
  {
   "cell_type": "markdown",
   "metadata": {},
   "source": [
    "# 1.0 Organizing data in appropriate format"
   ]
  },
  {
   "cell_type": "markdown",
   "metadata": {},
   "source": [
    "## 1.1 Storing in variables"
   ]
  },
  {
   "cell_type": "code",
   "execution_count": 2,
   "metadata": {},
   "outputs": [
    {
     "name": "stdout",
     "output_type": "stream",
     "text": [
      "The Customer ID of the first customer is cid-1001\n"
     ]
    }
   ],
   "source": [
    "cid = \"cid-1001\"\n",
    "print(\"The Customer ID of the first customer is\", cid)"
   ]
  },
  {
   "cell_type": "code",
   "execution_count": 3,
   "metadata": {},
   "outputs": [],
   "source": [
    "# Creating multiple variables to store unique customer id\n",
    "cid1 = 'cid-0001'\n",
    "cid2 = 'cid-0002'\n",
    "cid3 = 'cid-0003'\n",
    "cid4 = 'cid-0004'\n",
    "cid5 = 'cid-0005'"
   ]
  },
  {
   "cell_type": "markdown",
   "metadata": {},
   "source": [
    "## 1.2 Organizing and querying data"
   ]
  },
  {
   "cell_type": "code",
   "execution_count": 4,
   "metadata": {},
   "outputs": [
    {
     "name": "stdout",
     "output_type": "stream",
     "text": [
      "Customer ID: ['cid-0001', 'cid-0002', 'cid-0003', 'cid-0004', 'cid-0005']\n"
     ]
    }
   ],
   "source": [
    "cid = ['cid-0001', 'cid-0002', 'cid-0003', 'cid-0004', 'cid-0005'] # elements of lists are seperated by comma\n",
    "\n",
    "## Let's print the list to see if this works\n",
    "print(\"Customer ID:\",cid)"
   ]
  },
  {
   "cell_type": "code",
   "execution_count": 5,
   "metadata": {},
   "outputs": [],
   "source": [
    "credit_score = [650, 723, 581, 462, 773]   # list for storing credit score\n",
    "age_of_customer = [25, 28, 38, 41, 62]     # list for storing age of the customer\n",
    "debt_status = ['no-debt', 'no-debt', 'no-debt', 'in-debt', 'no-debt']  # list to store the debt status\n",
    "no_of_existing_credit_cards = [3, 2, 4, 1, 2] # list to store the number of existing credit cards"
   ]
  },
  {
   "cell_type": "code",
   "execution_count": 6,
   "metadata": {},
   "outputs": [
    {
     "name": "stdout",
     "output_type": "stream",
     "text": [
      "Customer ID: ['cid-0001', 'cid-0002', 'cid-0003', 'cid-0004', 'cid-0005']\n",
      "Credit Score: [650, 723, 581, 462, 773]\n",
      "Age of Customer: [25, 28, 38, 41, 62]\n",
      "Debt Status: ['no-debt', 'no-debt', 'no-debt', 'in-debt', 'no-debt']\n",
      "Number of existing Credit Cards: [3, 2, 4, 1, 2]\n"
     ]
    }
   ],
   "source": [
    "#Let's print all the features stored as list\n",
    "print(\"Customer ID:\", cid)\n",
    "print(\"Credit Score:\", credit_score)\n",
    "print(\"Age of Customer:\", age_of_customer)\n",
    "print(\"Debt Status:\", debt_status)\n",
    "print(\"Number of existing Credit Cards:\", no_of_existing_credit_cards)"
   ]
  },
  {
   "cell_type": "code",
   "execution_count": 7,
   "metadata": {},
   "outputs": [
    {
     "name": "stdout",
     "output_type": "stream",
     "text": [
      "1\n"
     ]
    }
   ],
   "source": [
    "# get the data for customer two based of the index\n",
    "pos = cid.index(\"cid-0002\")\n",
    "print(pos)"
   ]
  },
  {
   "cell_type": "code",
   "execution_count": 8,
   "metadata": {},
   "outputs": [
    {
     "name": "stdout",
     "output_type": "stream",
     "text": [
      "cid-0002\n",
      "723\n",
      "28\n",
      "no-debt\n",
      "2\n"
     ]
    }
   ],
   "source": [
    "print(cid[pos])  # prints the customer id of customer two\n",
    "print(credit_score[pos])  # prints the credit score of customer two\n",
    "print(age_of_customer[pos])  # prints the age of customer two\n",
    "print(debt_status[pos])  # prints the debt status of customer two\n",
    "print(no_of_existing_credit_cards[pos])  # prints the number of existing credit cards of customer"
   ]
  },
  {
   "cell_type": "code",
   "execution_count": 9,
   "metadata": {},
   "outputs": [
    {
     "data": {
      "text/plain": [
       "['in-debt', 'no-debt', 'no-debt', 'in-debt', 'no-debt']"
      ]
     },
     "execution_count": 9,
     "metadata": {},
     "output_type": "execute_result"
    }
   ],
   "source": [
    "# changind the status of customers one debt\n",
    "pos = cid.index(\"cid-0001\")\n",
    "debt_status[pos] = 'in-debt'\n",
    "debt_status"
   ]
  },
  {
   "cell_type": "markdown",
   "metadata": {},
   "source": [
    "## 1.3 Updating customer data based on conditions"
   ]
  },
  {
   "cell_type": "code",
   "execution_count": 10,
   "metadata": {},
   "outputs": [],
   "source": [
    "# updating the credit score of customers based on the pay on time percentages\n",
    "prec_on_time = [0.62, 0.78, 0.20, 0.32, 0.85]"
   ]
  },
  {
   "cell_type": "code",
   "execution_count": 11,
   "metadata": {},
   "outputs": [
    {
     "name": "stdout",
     "output_type": "stream",
     "text": [
      "Credit Score of cid-0001 remains unchanged at 650\n",
      "Credit Score of cid-0002 updated to 737\n",
      "Credit Score of cid-0003 remains unchanged at 581\n",
      "Credit Score of cid-0004 remains unchanged at 462\n",
      "Credit Score of cid-0005 updated to 788\n"
     ]
    }
   ],
   "source": [
    "for i in range(len(cid)):\n",
    "    if prec_on_time[i] > 0.7:\n",
    "        credit_score[i] = round(credit_score[i] * 1.02)  # increase credit score by 2%\n",
    "        print(f\"Credit Score of {cid[i]} updated to {credit_score[i]}\")\n",
    "    else:\n",
    "        print(\"Credit Score of\", cid[i], \"remains unchanged at\", credit_score[i])\n",
    "        "
   ]
  },
  {
   "cell_type": "code",
   "execution_count": 12,
   "metadata": {},
   "outputs": [
    {
     "name": "stdout",
     "output_type": "stream",
     "text": [
      "Number of customers with credit score over 700: 2\n"
     ]
    }
   ],
   "source": [
    "# how many have a credit score over 700\n",
    "count = 0\n",
    "for i in range(len(cid)):\n",
    "    if credit_score[i] > 700:\n",
    "        count += 1\n",
    "print(f\"Number of customers with credit score over 700: {count}\")"
   ]
  },
  {
   "cell_type": "code",
   "execution_count": 13,
   "metadata": {},
   "outputs": [
    {
     "name": "stdout",
     "output_type": "stream",
     "text": [
      "Number of people in debt : 2\n",
      "Number of people with no debt  3\n"
     ]
    }
   ],
   "source": [
    "# Initialize counters to increment in-debt and not in debt customer counts\n",
    "indebt = 0\n",
    "nodebt = 0\n",
    "\n",
    "for i in range(0,len(cid)):\n",
    "    if debt_status[i]=='in-debt':\n",
    "        indebt+=1   # Incrementing indebt counter by 1 when the customer is in debt\n",
    "    else:\n",
    "        nodebt+=1   # Incrementing nodebt counter by 1 when the customer is not in debt\n",
    "# Printing the number of people in-debt and not in debt\n",
    "print('Number of people in debt :',indebt)\n",
    "print('Number of people with no debt ',nodebt)"
   ]
  },
  {
   "cell_type": "code",
   "execution_count": 14,
   "metadata": {},
   "outputs": [
    {
     "name": "stdout",
     "output_type": "stream",
     "text": [
      "---------------------------------------------------------------------\n",
      "Customer ID: cid-0002\n",
      "Credit Score: 737\n",
      "Age of the Customer: 28\n",
      "Debt Status: no-debt\n",
      "Number of existing Credit Cards: 2\n"
     ]
    }
   ],
   "source": [
    "for i in range(0,len(cid)):\n",
    "    if cid[i] == 'cid-0002':\n",
    "        print('---------------------------------------------------------------------')\n",
    "        print( 'Customer ID:',cid[i])\n",
    "        print( 'Credit Score:',credit_score[i])\n",
    "        print( 'Age of the Customer:',age_of_customer[i])\n",
    "        print( 'Debt Status:',debt_status[i])\n",
    "        print( 'Number of existing Credit Cards:',no_of_existing_credit_cards[i])"
   ]
  },
  {
   "cell_type": "code",
   "execution_count": null,
   "metadata": {},
   "outputs": [],
   "source": [
    "# next we are going to try out this new hand rest I got for my keyboard I just want to type with it to see how it feels\n",
    "# I think it will be a good thing, and seems like it could be comfy, but right now it just feels a little awckward"
   ]
  }
 ],
 "metadata": {
  "kernelspec": {
   "display_name": ".venv",
   "language": "python",
   "name": "python3"
  },
  "language_info": {
   "codemirror_mode": {
    "name": "ipython",
    "version": 3
   },
   "file_extension": ".py",
   "mimetype": "text/x-python",
   "name": "python",
   "nbconvert_exporter": "python",
   "pygments_lexer": "ipython3",
   "version": "3.13.6"
  }
 },
 "nbformat": 4,
 "nbformat_minor": 2
}
